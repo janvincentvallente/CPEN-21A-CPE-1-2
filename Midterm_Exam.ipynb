{
  "nbformat": 4,
  "nbformat_minor": 0,
  "metadata": {
    "colab": {
      "name": "Midterm Exam.ipynb",
      "provenance": [],
      "authorship_tag": "ABX9TyMOu25iOOzzg+x5KsIwAXy8",
      "include_colab_link": true
    },
    "kernelspec": {
      "name": "python3",
      "display_name": "Python 3"
    },
    "language_info": {
      "name": "python"
    }
  },
  "cells": [
    {
      "cell_type": "markdown",
      "metadata": {
        "id": "view-in-github",
        "colab_type": "text"
      },
      "source": [
        "<a href=\"https://colab.research.google.com/github/janvincentvallente/CPEN-21A-CPE-1-2/blob/main/Midterm_Exam.ipynb\" target=\"_parent\"><img src=\"https://colab.research.google.com/assets/colab-badge.svg\" alt=\"Open In Colab\"/></a>"
      ]
    },
    {
      "cell_type": "markdown",
      "metadata": {
        "id": "v9bQiSYgB7gU"
      },
      "source": [
        "###Midterm Exam"
      ]
    },
    {
      "cell_type": "markdown",
      "metadata": {
        "id": "bMOZtEZfCGQ-"
      },
      "source": [
        "###Problem Statement 1. "
      ]
    },
    {
      "cell_type": "code",
      "metadata": {
        "colab": {
          "base_uri": "https://localhost:8080/"
        },
        "id": "t0Iw5r5_CEk-",
        "outputId": "790926ea-726c-493b-ee3e-fa5056cc0279"
      },
      "source": [
        "#a\n",
        "full_name = \"Jan Vincent C. Vallente\"\n",
        "print(full_name)"
      ],
      "execution_count": 2,
      "outputs": [
        {
          "output_type": "stream",
          "name": "stdout",
          "text": [
            "Jan Vincent C. Vallente\n"
          ]
        }
      ]
    },
    {
      "cell_type": "code",
      "metadata": {
        "colab": {
          "base_uri": "https://localhost:8080/"
        },
        "id": "cctcksuVCkNI",
        "outputId": "e87f532b-0e9d-44ee-85d1-8ec360e9969f"
      },
      "source": [
        "#b\n",
        "student_number = 202102026\n",
        "print(student_number)"
      ],
      "execution_count": 3,
      "outputs": [
        {
          "output_type": "stream",
          "name": "stdout",
          "text": [
            "202102026\n"
          ]
        }
      ]
    },
    {
      "cell_type": "code",
      "metadata": {
        "colab": {
          "base_uri": "https://localhost:8080/"
        },
        "id": "ifvdCkWdC0TJ",
        "outputId": "2babc0da-dd3a-4308-fc00-eeac2c8d88ff"
      },
      "source": [
        "#c\n",
        "age = 20\n",
        "print(age)\n"
      ],
      "execution_count": 5,
      "outputs": [
        {
          "output_type": "stream",
          "name": "stdout",
          "text": [
            "20\n"
          ]
        }
      ]
    },
    {
      "cell_type": "code",
      "metadata": {
        "colab": {
          "base_uri": "https://localhost:8080/"
        },
        "id": "in5groDaC92_",
        "outputId": "dd47d860-573b-44a3-a381-cdce293a23aa"
      },
      "source": [
        "#d\n",
        "birthday = \"August 9, 2001\"\n",
        "print(birthday)"
      ],
      "execution_count": 6,
      "outputs": [
        {
          "output_type": "stream",
          "name": "stdout",
          "text": [
            "August 9, 2001\n"
          ]
        }
      ]
    },
    {
      "cell_type": "code",
      "metadata": {
        "colab": {
          "base_uri": "https://localhost:8080/"
        },
        "id": "RNvbjXwvDGz8",
        "outputId": "3a4c9e78-699e-4ab4-87d3-33c796451b59"
      },
      "source": [
        "#e\n",
        "address = \"Bancal, Carmona, Cavite\"\n",
        "print(address)"
      ],
      "execution_count": 7,
      "outputs": [
        {
          "output_type": "stream",
          "name": "stdout",
          "text": [
            "Bancal, Carmona, Cavite\n"
          ]
        }
      ]
    },
    {
      "cell_type": "code",
      "metadata": {
        "colab": {
          "base_uri": "https://localhost:8080/"
        },
        "id": "6oHi6By8DRy-",
        "outputId": "e71a833e-ddc5-4c3e-990e-e39af0c64fd6"
      },
      "source": [
        "#f\n",
        "course = \"Bachelor of Science in Computer Engineering\"\n",
        "print(course)"
      ],
      "execution_count": 8,
      "outputs": [
        {
          "output_type": "stream",
          "name": "stdout",
          "text": [
            "Bachelor of Science in Computer Engineering\n"
          ]
        }
      ]
    },
    {
      "cell_type": "code",
      "metadata": {
        "colab": {
          "base_uri": "https://localhost:8080/"
        },
        "id": "QyBFUFAQDclY",
        "outputId": "3d745709-2c3b-4093-e3e2-13763ee0c79e"
      },
      "source": [
        "#g\n",
        "last_sem_GWA = 95\n",
        "print(last_sem_GWA)"
      ],
      "execution_count": 9,
      "outputs": [
        {
          "output_type": "stream",
          "name": "stdout",
          "text": [
            "95\n"
          ]
        }
      ]
    },
    {
      "cell_type": "markdown",
      "metadata": {
        "id": "7W3LiEjnDvZi"
      },
      "source": [
        "###Problem Statement 2. "
      ]
    },
    {
      "cell_type": "code",
      "metadata": {
        "colab": {
          "base_uri": "https://localhost:8080/"
        },
        "id": "QW97WumBDzHi",
        "outputId": "941781cb-e562-4f5b-82b5-d2871179977d"
      },
      "source": [
        "n = 4\n",
        "answ = \"Y\"\n",
        "\n",
        "print(2<n and n<6)\n",
        "print(2<n or n==6)\n",
        "print(not(2<n or n==6))\n",
        "print(not(n<6))\n",
        "print(answ==\"Y\" or answ==\"y\")\n",
        "print(answ==\"Y\" and answ==\"y\")\n",
        "print(not(answ==\"y\"))\n",
        "print((2<n and n==5+1)or answ==\"No\")\n",
        "print((n==2 and n==7) or answ==\"Y\")\n",
        "print((n==2) and (n==7 or answ==\"Y\"))"
      ],
      "execution_count": 12,
      "outputs": [
        {
          "output_type": "stream",
          "name": "stdout",
          "text": [
            "True\n",
            "True\n",
            "False\n",
            "False\n",
            "True\n",
            "False\n",
            "True\n",
            "False\n",
            "True\n",
            "False\n"
          ]
        }
      ]
    },
    {
      "cell_type": "markdown",
      "metadata": {
        "id": "oKKA5cfEFb77"
      },
      "source": [
        "###Problem Statement 3."
      ]
    },
    {
      "cell_type": "code",
      "metadata": {
        "colab": {
          "base_uri": "https://localhost:8080/"
        },
        "id": "1GEbFdkrFfCq",
        "outputId": "b14db805-7c9d-493f-8d96-cb8d90e9f3a4"
      },
      "source": [
        "x = 2\n",
        "y = -3\n",
        "w = 7\n",
        "z = -10\n",
        "\n",
        "print(x/y)\n",
        "print(w/y/x)\n",
        "print(z/y%x)\n",
        "print(x%-y*w)\n",
        "print(x%y)\n",
        "print(z%w-y/x*5+5)\n",
        "print(9-x%(2+y))\n",
        "print(z//w)\n",
        "print((2+y)**2)\n",
        "print(w/x*2)"
      ],
      "execution_count": 16,
      "outputs": [
        {
          "output_type": "stream",
          "name": "stdout",
          "text": [
            "-0.6666666666666666\n",
            "-1.1666666666666667\n",
            "1.3333333333333335\n",
            "14\n",
            "-1\n",
            "16.5\n",
            "9\n",
            "-2\n",
            "1\n",
            "7.0\n"
          ]
        }
      ]
    }
  ]
}