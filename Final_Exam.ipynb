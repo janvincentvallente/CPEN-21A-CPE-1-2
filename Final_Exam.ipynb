{
  "nbformat": 4,
  "nbformat_minor": 0,
  "metadata": {
    "colab": {
      "name": "Final Exam.ipynb",
      "provenance": [],
      "collapsed_sections": [],
      "authorship_tag": "ABX9TyM71QGQEc2EsxXQh7kugPNJ",
      "include_colab_link": true
    },
    "kernelspec": {
      "name": "python3",
      "display_name": "Python 3"
    },
    "language_info": {
      "name": "python"
    }
  },
  "cells": [
    {
      "cell_type": "markdown",
      "metadata": {
        "id": "view-in-github",
        "colab_type": "text"
      },
      "source": [
        "<a href=\"https://colab.research.google.com/github/janvincentvallente/CPEN-21A-CPE-1-2/blob/main/Final_Exam.ipynb\" target=\"_parent\"><img src=\"https://colab.research.google.com/assets/colab-badge.svg\" alt=\"Open In Colab\"/></a>"
      ]
    },
    {
      "cell_type": "markdown",
      "source": [
        "##Final Exam"
      ],
      "metadata": {
        "id": "qh8pGKZoMx3J"
      }
    },
    {
      "cell_type": "markdown",
      "source": [
        "Problem Statement 1"
      ],
      "metadata": {
        "id": "Vmd4ARSjMC9C"
      }
    },
    {
      "cell_type": "code",
      "source": [
        "#Create a Python program that will produce an output of sum of 10 numbers less than 5 using FOR LOOP statement.\n",
        "\n",
        "sum=0\n",
        "print(\"The 10 numbers less than 5 are: \")\n",
        "for x in range(-5,5):\n",
        "  print(x, end=\" \")\n",
        "  sum=sum+x\n",
        "print()\n",
        "print(\"The sum of 10 numbers less than 5 is:\", sum)"
      ],
      "metadata": {
        "colab": {
          "base_uri": "https://localhost:8080/"
        },
        "id": "QaP2p9_mD9B5",
        "outputId": "e01de07b-6a57-4454-886d-367e4af3c9d7"
      },
      "execution_count": null,
      "outputs": [
        {
          "output_type": "stream",
          "name": "stdout",
          "text": [
            "The 10 numbers less than 5 are: \n",
            "-5 -4 -3 -2 -1 0 1 2 3 4 \n",
            "The sum of 10 numbers less than 5 is: -5\n"
          ]
        }
      ]
    },
    {
      "cell_type": "markdown",
      "source": [
        "Problem Statement 2"
      ],
      "metadata": {
        "id": "qKZ6RsegMmGp"
      }
    },
    {
      "cell_type": "code",
      "source": [
        "#Create a Python program that will produce accept five numbers and determine the sum of first and last number among the five numbers entered using WHILE LOOP\n",
        "\n",
        "number = []\n",
        "while len(number) is not 5:\n",
        "  user = int(input(\"Enter a number: \"))\n",
        "  number.append(user)\n",
        "\n",
        "print(number)\n",
        "sum = number[0] + number[-1]\n",
        "print(\"The sum of first and last number is: \", sum)\n"
      ],
      "metadata": {
        "colab": {
          "base_uri": "https://localhost:8080/"
        },
        "id": "ZUbP3wwl181j",
        "outputId": "38ad8bc1-daeb-4a6c-cd79-0fe483636a2c"
      },
      "execution_count": null,
      "outputs": [
        {
          "output_type": "stream",
          "name": "stdout",
          "text": [
            "Enter a number: 9\n",
            "Enter a number: 1\n",
            "Enter a number: 8\n",
            "Enter a number: 2\n",
            "Enter a number: 4\n",
            "[9, 1, 8, 2, 4]\n",
            "The sum of first and last number is:  13\n"
          ]
        }
      ]
    },
    {
      "cell_type": "markdown",
      "source": [
        "Problem Statement 3"
      ],
      "metadata": {
        "id": "gqftO-A3DTJa"
      }
    },
    {
      "cell_type": "code",
      "execution_count": 1,
      "metadata": {
        "colab": {
          "base_uri": "https://localhost:8080/"
        },
        "id": "hkqVFKa21ykQ",
        "outputId": "3493e4a7-cda7-41a8-84c7-89ba6187c817"
      },
      "outputs": [
        {
          "output_type": "stream",
          "name": "stdout",
          "text": [
            "Enter your numerical grade:75\n",
            "Grade: C\n"
          ]
        }
      ],
      "source": [
        "#Create a Python program to calculate student grades. \n",
        "#It accepts a numerical grade as input and it will display the character grade as output based on the given scale: \n",
        "#(Use Nested-IF-Else statement)\n",
        "\n",
        "grade = int(input(\"Enter your numerical grade:\"))\n",
        "\n",
        "if grade>59:\n",
        "  if grade>69:\n",
        "    if grade>79:\n",
        "      if grade>89:\n",
        "         print(\"Grade: A\")\n",
        "      else:\n",
        "        print(\"Grade: B\")\n",
        "    else:\n",
        "      print(\"Grade: C\")\n",
        "  else:\n",
        "    print(\"Grade: D\")\n",
        "else:\n",
        "  print(\"Grade: F\")\n"
      ]
    }
  ]
}