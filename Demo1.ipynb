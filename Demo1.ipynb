{
  "nbformat": 4,
  "nbformat_minor": 0,
  "metadata": {
    "colab": {
      "name": "Demo1.ipynb",
      "provenance": [],
      "authorship_tag": "ABX9TyPqqiWuKbFx2NgDnNDWMHdh",
      "include_colab_link": true
    },
    "kernelspec": {
      "name": "python3",
      "display_name": "Python 3"
    },
    "language_info": {
      "name": "python"
    }
  },
  "cells": [
    {
      "cell_type": "markdown",
      "metadata": {
        "id": "view-in-github",
        "colab_type": "text"
      },
      "source": [
        "<a href=\"https://colab.research.google.com/github/janvincentvallente/CPEN-21A-CPE-1-2/blob/main/Demo1.ipynb\" target=\"_parent\"><img src=\"https://colab.research.google.com/assets/colab-badge.svg\" alt=\"Open In Colab\"/></a>"
      ]
    },
    {
      "cell_type": "markdown",
      "metadata": {
        "id": "zkol3oXc4oaD"
      },
      "source": [
        "##Introduction to Python"
      ]
    },
    {
      "cell_type": "markdown",
      "metadata": {
        "id": "4J7WWewrJUvg"
      },
      "source": [
        "##Python Indentation"
      ]
    },
    {
      "cell_type": "code",
      "metadata": {
        "colab": {
          "base_uri": "https://localhost:8080/"
        },
        "id": "4N8m5cjQJYaB",
        "outputId": "bee04973-935a-4c4c-fb6e-e52bd7e72399"
      },
      "source": [
        "if 5>2:\n",
        "  print(\"five is greater than two\")"
      ],
      "execution_count": 35,
      "outputs": [
        {
          "output_type": "stream",
          "name": "stdout",
          "text": [
            "five is greater than two\n"
          ]
        }
      ]
    },
    {
      "cell_type": "code",
      "metadata": {
        "colab": {
          "base_uri": "https://localhost:8080/"
        },
        "id": "7-eleCgYJjhP",
        "outputId": "7d0a9b41-d1ba-4efa-cbab-163c81fc2929"
      },
      "source": [
        "x = 2       #This is a single variable with single value\n",
        "x,y = 1,2   #This are two variables with two different values\n",
        "x,y,z = 1,2,3\n",
        "print(x)\n",
        "print(y)\n",
        "print(z)"
      ],
      "execution_count": 36,
      "outputs": [
        {
          "output_type": "stream",
          "name": "stdout",
          "text": [
            "1\n",
            "2\n",
            "3\n"
          ]
        }
      ]
    },
    {
      "cell_type": "code",
      "metadata": {
        "colab": {
          "base_uri": "https://localhost:8080/",
          "height": 35
        },
        "id": "_179oMBMJrgQ",
        "outputId": "0b4d555a-d52a-4568-edda-00f5aa9518bb"
      },
      "source": [
        "x,y = \"four\",2\n",
        "x\n",
        "y\n",
        "x"
      ],
      "execution_count": 37,
      "outputs": [
        {
          "output_type": "execute_result",
          "data": {
            "application/vnd.google.colaboratory.intrinsic+json": {
              "type": "string"
            },
            "text/plain": [
              "'four'"
            ]
          },
          "metadata": {},
          "execution_count": 37
        }
      ]
    },
    {
      "cell_type": "markdown",
      "metadata": {
        "id": "FMSE183-It0h"
      },
      "source": [
        "##Python Comments"
      ]
    },
    {
      "cell_type": "code",
      "metadata": {
        "colab": {
          "base_uri": "https://localhost:8080/"
        },
        "id": "7uH9emWjIxCW",
        "outputId": "092cd036-2146-4afe-812e-5bd4b4020640"
      },
      "source": [
        "#This is a comment\n",
        "print(\"Hello, I am JV\")"
      ],
      "execution_count": 33,
      "outputs": [
        {
          "output_type": "stream",
          "name": "stdout",
          "text": [
            "Hello, I am JV\n"
          ]
        }
      ]
    },
    {
      "cell_type": "markdown",
      "metadata": {
        "id": "sS5Vww4FI7NZ"
      },
      "source": [
        "##Variable Naming Conventions"
      ]
    },
    {
      "cell_type": "code",
      "metadata": {
        "colab": {
          "base_uri": "https://localhost:8080/"
        },
        "id": "uMJQfRnhJBCv",
        "outputId": "92db4040-5452-4add-d7ac-b2fc0a0c600a"
      },
      "source": [
        "myvar=\"Vincent\"\n",
        "print(myvar)"
      ],
      "execution_count": 45,
      "outputs": [
        {
          "output_type": "stream",
          "name": "stdout",
          "text": [
            "Vincent\n"
          ]
        }
      ]
    },
    {
      "cell_type": "markdown",
      "metadata": {
        "id": "P5prvWPS7IgE"
      },
      "source": [
        "## Casting"
      ]
    },
    {
      "cell_type": "code",
      "metadata": {
        "colab": {
          "base_uri": "https://localhost:8080/"
        },
        "id": "OwhOt13y7SGr",
        "outputId": "ae50e1bc-7dd9-4db9-cc06-26f8cfd13ff2"
      },
      "source": [
        "b = \"sally\"   #This is a type of string\n",
        "b = int(4)\n",
        "print(b)\n",
        "\n",
        "b = float(4)\n",
        "print(b)"
      ],
      "execution_count": 31,
      "outputs": [
        {
          "output_type": "stream",
          "name": "stdout",
          "text": [
            "4\n",
            "4.0\n"
          ]
        }
      ]
    },
    {
      "cell_type": "markdown",
      "metadata": {
        "id": "LJS3Bzr-7acT"
      },
      "source": [
        "## Type Function"
      ]
    },
    {
      "cell_type": "code",
      "metadata": {
        "colab": {
          "base_uri": "https://localhost:8080/"
        },
        "id": "tFFIsiO37dVE",
        "outputId": "3587c319-f69a-446c-c216-5ebfd6d47193"
      },
      "source": [
        "x = 5\n",
        "y = 'John'  #This is a type of string\n",
        "h = \"ana\"\n",
        "H  = 'Ana'\n",
        "print(type(x))\n",
        "print(type(y))\n",
        "print (h)\n",
        "print (H)"
      ],
      "execution_count": 32,
      "outputs": [
        {
          "output_type": "stream",
          "name": "stdout",
          "text": [
            "<class 'int'>\n",
            "<class 'str'>\n",
            "ana\n",
            "Ana\n"
          ]
        }
      ]
    },
    {
      "cell_type": "markdown",
      "metadata": {
        "id": "bF540cemKAf5"
      },
      "source": [
        "##Multiple Variables"
      ]
    },
    {
      "cell_type": "code",
      "metadata": {
        "colab": {
          "base_uri": "https://localhost:8080/"
        },
        "id": "JA6dloP1KDUB",
        "outputId": "e52b288d-607e-483b-dd61-2c768c314daa"
      },
      "source": [
        "x, y, z= \"one\", \"two\", \"three\"\n",
        "print(x)\n",
        "print(y)\n",
        "print(z)"
      ],
      "execution_count": 38,
      "outputs": [
        {
          "output_type": "stream",
          "name": "stdout",
          "text": [
            "one\n",
            "two\n",
            "three\n"
          ]
        }
      ]
    },
    {
      "cell_type": "markdown",
      "metadata": {
        "id": "YsWyI_m58VkN"
      },
      "source": [
        "###One Value to Multiple Variables"
      ]
    },
    {
      "cell_type": "code",
      "metadata": {
        "colab": {
          "base_uri": "https://localhost:8080/"
        },
        "id": "9N8iI6Bp8dwC",
        "outputId": "210618fd-b9f0-4390-84f4-6acf3d8da922"
      },
      "source": [
        "x = y = z = 'four'\n",
        "print(x)\n",
        "print(y)\n",
        "print(z)"
      ],
      "execution_count": 10,
      "outputs": [
        {
          "output_type": "stream",
          "name": "stdout",
          "text": [
            "four\n",
            "four\n",
            "four\n"
          ]
        }
      ]
    },
    {
      "cell_type": "markdown",
      "metadata": {
        "id": "cJQF_QNgKVzx"
      },
      "source": [
        "##Output Variables"
      ]
    },
    {
      "cell_type": "code",
      "metadata": {
        "colab": {
          "base_uri": "https://localhost:8080/"
        },
        "id": "NEA6eSF280CT",
        "outputId": "0e21787c-33c3-4b49-dd9c-98aa5ec3908a"
      },
      "source": [
        "x = 'enjoying'\n",
        "print(\"Python programming is \" + x)"
      ],
      "execution_count": 14,
      "outputs": [
        {
          "output_type": "stream",
          "name": "stdout",
          "text": [
            "Python programming is enjoying\n"
          ]
        }
      ]
    },
    {
      "cell_type": "markdown",
      "metadata": {
        "id": "6w2PG6T2Kg3Y"
      },
      "source": [
        "##Arithmetic Operations"
      ]
    },
    {
      "cell_type": "code",
      "metadata": {
        "colab": {
          "base_uri": "https://localhost:8080/"
        },
        "id": "IiJxa2GaKkzo",
        "outputId": "6b5cf0e6-b300-4185-d544-a26ec416165a"
      },
      "source": [
        "x = 5\n",
        "y = 3\n",
        "print(x+y)"
      ],
      "execution_count": 42,
      "outputs": [
        {
          "output_type": "stream",
          "name": "stdout",
          "text": [
            "8\n"
          ]
        }
      ]
    },
    {
      "cell_type": "code",
      "metadata": {
        "colab": {
          "base_uri": "https://localhost:8080/"
        },
        "id": "ptmpQkyJ9SnE",
        "outputId": "c795a9a5-a4cd-4a60-9db3-f8377fdb1d02"
      },
      "source": [
        "x = 11\n",
        "y = 12\n",
        "z = 13\n",
        "print(x+y+z)"
      ],
      "execution_count": 16,
      "outputs": [
        {
          "output_type": "stream",
          "name": "stdout",
          "text": [
            "36\n"
          ]
        }
      ]
    },
    {
      "cell_type": "markdown",
      "metadata": {
        "id": "ReI0ZtaaK_PR"
      },
      "source": [
        "##Assignment Operators"
      ]
    },
    {
      "cell_type": "code",
      "metadata": {
        "colab": {
          "base_uri": "https://localhost:8080/"
        },
        "id": "4z9VT1W09kJD",
        "outputId": "bd3e6077-7c33-4e88-a6eb-1b35e2e1f62c"
      },
      "source": [
        "x+=3  #This is the same as x = x + 3\n",
        "print(x)"
      ],
      "execution_count": 17,
      "outputs": [
        {
          "output_type": "stream",
          "name": "stdout",
          "text": [
            "14\n"
          ]
        }
      ]
    },
    {
      "cell_type": "code",
      "metadata": {
        "colab": {
          "base_uri": "https://localhost:8080/"
        },
        "id": "ENzbH4W2-VTi",
        "outputId": "32584bcc-5ec9-47d2-c472-2c43c80775b9"
      },
      "source": [
        "y+=5\n",
        "print(y)"
      ],
      "execution_count": 20,
      "outputs": [
        {
          "output_type": "stream",
          "name": "stdout",
          "text": [
            "17\n"
          ]
        }
      ]
    },
    {
      "cell_type": "markdown",
      "metadata": {
        "id": "VgArID1GLFeg"
      },
      "source": [
        "##Comparison Operators"
      ]
    },
    {
      "cell_type": "code",
      "metadata": {
        "colab": {
          "base_uri": "https://localhost:8080/"
        },
        "id": "fPmMbfzOLjqT",
        "outputId": "857c72d2-9851-4cc7-c0da-40fa8efe3358"
      },
      "source": [
        "x>y\n",
        "x<y"
      ],
      "execution_count": 44,
      "outputs": [
        {
          "output_type": "execute_result",
          "data": {
            "text/plain": [
              "False"
            ]
          },
          "metadata": {},
          "execution_count": 44
        }
      ]
    },
    {
      "cell_type": "markdown",
      "metadata": {
        "id": "TJAlQLlaLyFB"
      },
      "source": [
        "##Logical Operators"
      ]
    },
    {
      "cell_type": "code",
      "metadata": {
        "colab": {
          "base_uri": "https://localhost:8080/"
        },
        "id": "d2QIfRoy9_k5",
        "outputId": "25b91584-035d-42a6-9846-5770053e7b4d"
      },
      "source": [
        "x<y and x!=x"
      ],
      "execution_count": 24,
      "outputs": [
        {
          "output_type": "execute_result",
          "data": {
            "text/plain": [
              "False"
            ]
          },
          "metadata": {},
          "execution_count": 24
        }
      ]
    },
    {
      "cell_type": "code",
      "metadata": {
        "colab": {
          "base_uri": "https://localhost:8080/"
        },
        "id": "TKg4TBVe_G2z",
        "outputId": "fdaab925-5212-42d5-f641-2ed73e75cf80"
      },
      "source": [
        "x>y or y==z"
      ],
      "execution_count": 26,
      "outputs": [
        {
          "output_type": "execute_result",
          "data": {
            "text/plain": [
              "False"
            ]
          },
          "metadata": {},
          "execution_count": 26
        }
      ]
    },
    {
      "cell_type": "code",
      "metadata": {
        "colab": {
          "base_uri": "https://localhost:8080/"
        },
        "id": "Q5w0kXC8_hCa",
        "outputId": "1a44e44a-35db-4866-9a5f-b187ffa844c9"
      },
      "source": [
        "not(print(x>y))"
      ],
      "execution_count": 28,
      "outputs": [
        {
          "output_type": "stream",
          "name": "stdout",
          "text": [
            "False\n"
          ]
        },
        {
          "output_type": "execute_result",
          "data": {
            "text/plain": [
              "True"
            ]
          },
          "metadata": {},
          "execution_count": 28
        }
      ]
    },
    {
      "cell_type": "code",
      "metadata": {
        "colab": {
          "base_uri": "https://localhost:8080/"
        },
        "id": "EeZd16z8_9Ay",
        "outputId": "1ff33b79-a97f-460c-c6ed-74da8e8611ff"
      },
      "source": [
        "print (x is y)\n",
        "print (x is not z)"
      ],
      "execution_count": 29,
      "outputs": [
        {
          "output_type": "stream",
          "name": "stdout",
          "text": [
            "False\n",
            "True\n"
          ]
        }
      ]
    }
  ]
}