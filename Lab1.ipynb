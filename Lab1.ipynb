{
  "nbformat": 4,
  "nbformat_minor": 0,
  "metadata": {
    "colab": {
      "name": "Lab1.ipynb",
      "provenance": [],
      "collapsed_sections": [],
      "authorship_tag": "ABX9TyMfVaYy3OJ/G4hjWJB6NLGd",
      "include_colab_link": true
    },
    "kernelspec": {
      "name": "python3",
      "display_name": "Python 3"
    },
    "language_info": {
      "name": "python"
    }
  },
  "cells": [
    {
      "cell_type": "markdown",
      "metadata": {
        "id": "view-in-github",
        "colab_type": "text"
      },
      "source": [
        "<a href=\"https://colab.research.google.com/github/janvincentvallente/CPEN-21A-CPE-1-2/blob/main/Lab1.ipynb\" target=\"_parent\"><img src=\"https://colab.research.google.com/assets/colab-badge.svg\" alt=\"Open In Colab\"/></a>"
      ]
    },
    {
      "cell_type": "markdown",
      "metadata": {
        "id": "-4LRHPugVjrX"
      },
      "source": [
        "##Laboratory 1"
      ]
    },
    {
      "cell_type": "code",
      "metadata": {
        "colab": {
          "base_uri": "https://localhost:8080/"
        },
        "id": "zGO-pwerXS9x",
        "outputId": "a376482b-a3c1-4191-8205-1f10c886923a"
      },
      "source": [
        "x = \"Python Programming\"\n",
        "print(\"Welcome to \" + x)"
      ],
      "execution_count": 2,
      "outputs": [
        {
          "output_type": "stream",
          "name": "stdout",
          "text": [
            "Welcome to Python Programming\n"
          ]
        }
      ]
    },
    {
      "cell_type": "code",
      "metadata": {
        "colab": {
          "base_uri": "https://localhost:8080/"
        },
        "id": "h4bLfXg0Vr69",
        "outputId": "83c94974-3269-4f77-eb9a-a2de8ceba9a4"
      },
      "source": [
        "my_name = \"Jan Vincent C. Vallente\"\n",
        "my_address = \"Block 26 Lot 20 Phase 1 Terraverde Residences, Bancal, Carmona, Cavite\"\n",
        "my_age = 20\n",
        "\n",
        "print(\"My name is \" + my_name)\n",
        "print(\"I live in \" + my_address)\n",
        "print(\"I am \" + str(my_age) + \" years old.\" )\n"
      ],
      "execution_count": 6,
      "outputs": [
        {
          "output_type": "stream",
          "name": "stdout",
          "text": [
            "My name is Jan Vincent C. Vallente\n",
            "I live in Block 26 Lot 20 Phase 1 Terraverde Residences, Bancal, Carmona, Cavite\n",
            "I am 20 years old.\n"
          ]
        }
      ]
    },
    {
      "cell_type": "code",
      "metadata": {
        "id": "Iuzc8uF-VSPU"
      },
      "source": [
        ""
      ],
      "execution_count": null,
      "outputs": []
    }
  ]
}